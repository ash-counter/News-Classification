{
 "cells": [
  {
   "cell_type": "markdown",
   "metadata": {},
   "source": [
    "# **News Category Classification using LSTM**\n",
    "**News categories included in this dataset include business; science and technology; entertainment; and health.** \n",
    "\n",
    "**Different news articles that refer to the same news item (e.g., several articles about recently released employment statistics) are also categorized together.**"
   ]
  },
  {
   "cell_type": "code",
   "execution_count": 2,
   "metadata": {
    "execution": {
     "iopub.execute_input": "2021-07-08T18:27:22.987300Z",
     "iopub.status.busy": "2021-07-08T18:27:22.986931Z",
     "iopub.status.idle": "2021-07-08T18:27:22.992726Z",
     "shell.execute_reply": "2021-07-08T18:27:22.991881Z",
     "shell.execute_reply.started": "2021-07-08T18:27:22.987265Z"
    }
   },
   "outputs": [
    {
     "ename": "AttributeError",
     "evalue": "module 'keras.utils.generic_utils' has no attribute 'populate_dict_with_module_objects'",
     "output_type": "error",
     "traceback": [
      "\u001b[1;31m---------------------------------------------------------------------------\u001b[0m",
      "\u001b[1;31mAttributeError\u001b[0m                            Traceback (most recent call last)",
      "\u001b[1;32m<ipython-input-2-ad865f99455a>\u001b[0m in \u001b[0;36m<module>\u001b[1;34m\u001b[0m\n\u001b[0;32m     13\u001b[0m \u001b[1;32mfrom\u001b[0m \u001b[0mtensorflow\u001b[0m\u001b[1;33m.\u001b[0m\u001b[0mkeras\u001b[0m\u001b[1;33m.\u001b[0m\u001b[0mlayers\u001b[0m \u001b[1;32mimport\u001b[0m \u001b[0mEmbedding\u001b[0m\u001b[1;33m,\u001b[0m\u001b[0mLSTM\u001b[0m\u001b[1;33m,\u001b[0m\u001b[0mDense\u001b[0m\u001b[1;33m,\u001b[0m\u001b[0mDropout\u001b[0m\u001b[1;33m\u001b[0m\u001b[1;33m\u001b[0m\u001b[0m\n\u001b[0;32m     14\u001b[0m \u001b[1;32mfrom\u001b[0m \u001b[0mtensorflow\u001b[0m\u001b[1;33m.\u001b[0m\u001b[0mkeras\u001b[0m\u001b[1;33m.\u001b[0m\u001b[0mmodels\u001b[0m \u001b[1;32mimport\u001b[0m \u001b[0mSequential\u001b[0m\u001b[1;33m\u001b[0m\u001b[1;33m\u001b[0m\u001b[0m\n\u001b[1;32m---> 15\u001b[1;33m \u001b[1;32mfrom\u001b[0m \u001b[0mkeras\u001b[0m\u001b[1;33m.\u001b[0m\u001b[0mutils\u001b[0m\u001b[1;33m.\u001b[0m\u001b[0mnp_utils\u001b[0m \u001b[1;32mimport\u001b[0m \u001b[0mto_categorical\u001b[0m\u001b[1;33m\u001b[0m\u001b[1;33m\u001b[0m\u001b[0m\n\u001b[0m",
      "\u001b[1;32m~\\anaconda3\\lib\\site-packages\\keras\\__init__.py\u001b[0m in \u001b[0;36m<module>\u001b[1;34m\u001b[0m\n\u001b[0;32m     18\u001b[0m \u001b[1;32mfrom\u001b[0m \u001b[1;33m.\u001b[0m \u001b[1;32mimport\u001b[0m \u001b[0mcallbacks\u001b[0m\u001b[1;33m\u001b[0m\u001b[1;33m\u001b[0m\u001b[0m\n\u001b[0;32m     19\u001b[0m \u001b[1;32mfrom\u001b[0m \u001b[1;33m.\u001b[0m \u001b[1;32mimport\u001b[0m \u001b[0mconstraints\u001b[0m\u001b[1;33m\u001b[0m\u001b[1;33m\u001b[0m\u001b[0m\n\u001b[1;32m---> 20\u001b[1;33m \u001b[1;32mfrom\u001b[0m \u001b[1;33m.\u001b[0m \u001b[1;32mimport\u001b[0m \u001b[0minitializers\u001b[0m\u001b[1;33m\u001b[0m\u001b[1;33m\u001b[0m\u001b[0m\n\u001b[0m\u001b[0;32m     21\u001b[0m \u001b[1;32mfrom\u001b[0m \u001b[1;33m.\u001b[0m \u001b[1;32mimport\u001b[0m \u001b[0mmetrics\u001b[0m\u001b[1;33m\u001b[0m\u001b[1;33m\u001b[0m\u001b[0m\n\u001b[0;32m     22\u001b[0m \u001b[1;32mfrom\u001b[0m \u001b[1;33m.\u001b[0m \u001b[1;32mimport\u001b[0m \u001b[0mmodels\u001b[0m\u001b[1;33m\u001b[0m\u001b[1;33m\u001b[0m\u001b[0m\n",
      "\u001b[1;32m~\\anaconda3\\lib\\site-packages\\keras\\initializers\\__init__.py\u001b[0m in \u001b[0;36m<module>\u001b[1;34m\u001b[0m\n\u001b[0;32m    122\u001b[0m \u001b[1;31m# from ALL_OBJECTS. We make no guarantees as to whether these objects will\u001b[0m\u001b[1;33m\u001b[0m\u001b[1;33m\u001b[0m\u001b[1;33m\u001b[0m\u001b[0m\n\u001b[0;32m    123\u001b[0m \u001b[1;31m# using their correct version.\u001b[0m\u001b[1;33m\u001b[0m\u001b[1;33m\u001b[0m\u001b[1;33m\u001b[0m\u001b[0m\n\u001b[1;32m--> 124\u001b[1;33m \u001b[0mpopulate_deserializable_objects\u001b[0m\u001b[1;33m(\u001b[0m\u001b[1;33m)\u001b[0m\u001b[1;33m\u001b[0m\u001b[1;33m\u001b[0m\u001b[0m\n\u001b[0m\u001b[0;32m    125\u001b[0m \u001b[0mglobals\u001b[0m\u001b[1;33m(\u001b[0m\u001b[1;33m)\u001b[0m\u001b[1;33m.\u001b[0m\u001b[0mupdate\u001b[0m\u001b[1;33m(\u001b[0m\u001b[0mLOCAL\u001b[0m\u001b[1;33m.\u001b[0m\u001b[0mALL_OBJECTS\u001b[0m\u001b[1;33m)\u001b[0m\u001b[1;33m\u001b[0m\u001b[1;33m\u001b[0m\u001b[0m\n\u001b[0;32m    126\u001b[0m \u001b[1;33m\u001b[0m\u001b[0m\n",
      "\u001b[1;32m~\\anaconda3\\lib\\site-packages\\keras\\initializers\\__init__.py\u001b[0m in \u001b[0;36mpopulate_deserializable_objects\u001b[1;34m()\u001b[0m\n\u001b[0;32m     80\u001b[0m     \u001b[0mv2_objs\u001b[0m \u001b[1;33m=\u001b[0m \u001b[1;33m{\u001b[0m\u001b[1;33m}\u001b[0m\u001b[1;33m\u001b[0m\u001b[1;33m\u001b[0m\u001b[0m\n\u001b[0;32m     81\u001b[0m     \u001b[0mbase_cls\u001b[0m \u001b[1;33m=\u001b[0m \u001b[0minitializers_v2\u001b[0m\u001b[1;33m.\u001b[0m\u001b[0mInitializer\u001b[0m\u001b[1;33m\u001b[0m\u001b[1;33m\u001b[0m\u001b[0m\n\u001b[1;32m---> 82\u001b[1;33m     generic_utils.populate_dict_with_module_objects(\n\u001b[0m\u001b[0;32m     83\u001b[0m         \u001b[0mv2_objs\u001b[0m\u001b[1;33m,\u001b[0m\u001b[1;33m\u001b[0m\u001b[1;33m\u001b[0m\u001b[0m\n\u001b[0;32m     84\u001b[0m         \u001b[1;33m[\u001b[0m\u001b[0minitializers_v2\u001b[0m\u001b[1;33m]\u001b[0m\u001b[1;33m,\u001b[0m\u001b[1;33m\u001b[0m\u001b[1;33m\u001b[0m\u001b[0m\n",
      "\u001b[1;31mAttributeError\u001b[0m: module 'keras.utils.generic_utils' has no attribute 'populate_dict_with_module_objects'"
     ]
    }
   ],
   "source": [
    "#importing libraries\n",
    "import pandas as pd\n",
    "import numpy as np\n",
    "import seaborn as sns\n",
    "import re\n",
    "from tensorflow import keras\n",
    "from nltk.stem.porter import PorterStemmer\n",
    "from nltk.corpus import stopwords\n",
    "from tensorflow.keras.preprocessing.text import one_hot\n",
    "from tensorflow.keras.preprocessing.sequence import pad_sequences\n",
    "from sklearn.preprocessing import LabelEncoder\n",
    "from sklearn.model_selection import train_test_split\n",
    "from tensorflow.keras.layers import Embedding,LSTM,Dense,Dropout\n",
    "from tensorflow.keras.models import Sequential\n",
    "from keras.utils.np_utils import to_categorical"
   ]
  },
  {
   "cell_type": "code",
   "execution_count": 1,
   "metadata": {
    "execution": {
     "iopub.execute_input": "2021-07-08T18:27:23.000437Z",
     "iopub.status.busy": "2021-07-08T18:27:23.000170Z",
     "iopub.status.idle": "2021-07-08T18:27:24.339250Z",
     "shell.execute_reply": "2021-07-08T18:27:24.338303Z",
     "shell.execute_reply.started": "2021-07-08T18:27:23.000413Z"
    }
   },
   "outputs": [
    {
     "ename": "NameError",
     "evalue": "name 'pd' is not defined",
     "output_type": "error",
     "traceback": [
      "\u001b[1;31m---------------------------------------------------------------------------\u001b[0m",
      "\u001b[1;31mNameError\u001b[0m                                 Traceback (most recent call last)",
      "\u001b[1;32m<ipython-input-1-1134b20c98c0>\u001b[0m in \u001b[0;36m<module>\u001b[1;34m\u001b[0m\n\u001b[0;32m      1\u001b[0m \u001b[1;31m#importing the dataset\u001b[0m\u001b[1;33m\u001b[0m\u001b[1;33m\u001b[0m\u001b[1;33m\u001b[0m\u001b[0m\n\u001b[1;32m----> 2\u001b[1;33m \u001b[0mdir\u001b[0m \u001b[1;33m=\u001b[0m \u001b[0mpd\u001b[0m\u001b[1;33m.\u001b[0m\u001b[0mread_csv\u001b[0m\u001b[1;33m(\u001b[0m\u001b[1;34m\"/uci-news-aggregator.csv\"\u001b[0m\u001b[1;33m)\u001b[0m\u001b[1;33m\u001b[0m\u001b[1;33m\u001b[0m\u001b[0m\n\u001b[0m\u001b[0;32m      3\u001b[0m \u001b[0mpd\u001b[0m\u001b[1;33m.\u001b[0m\u001b[0mset_option\u001b[0m\u001b[1;33m(\u001b[0m\u001b[1;34m'display.max_columns'\u001b[0m\u001b[1;33m,\u001b[0m \u001b[1;32mNone\u001b[0m\u001b[1;33m)\u001b[0m\u001b[1;33m\u001b[0m\u001b[1;33m\u001b[0m\u001b[0m\n\u001b[0;32m      4\u001b[0m \u001b[0mdir\u001b[0m\u001b[1;33m.\u001b[0m\u001b[0mhead\u001b[0m\u001b[1;33m(\u001b[0m\u001b[1;33m)\u001b[0m\u001b[1;33m\u001b[0m\u001b[1;33m\u001b[0m\u001b[0m\n",
      "\u001b[1;31mNameError\u001b[0m: name 'pd' is not defined"
     ]
    }
   ],
   "source": [
    "#importing the dataset\n",
    "dir = pd.read_csv(\"/uci-news-aggregator.csv\")\n",
    "pd.set_option('display.max_columns', None)\n",
    "dir.head()"
   ]
  },
  {
   "cell_type": "markdown",
   "metadata": {},
   "source": [
    "**WE HAVE ONLY TWO FEATURES OF USE**\n",
    "\n",
    "1. **TITLE**\n",
    "2. **CATEGORY**"
   ]
  },
  {
   "cell_type": "code",
   "execution_count": 53,
   "metadata": {
    "execution": {
     "iopub.execute_input": "2021-07-08T18:27:24.341181Z",
     "iopub.status.busy": "2021-07-08T18:27:24.340835Z",
     "iopub.status.idle": "2021-07-08T18:27:24.361142Z",
     "shell.execute_reply": "2021-07-08T18:27:24.360338Z",
     "shell.execute_reply.started": "2021-07-08T18:27:24.341144Z"
    }
   },
   "outputs": [
    {
     "data": {
      "text/html": [
       "<div>\n",
       "<style scoped>\n",
       "    .dataframe tbody tr th:only-of-type {\n",
       "        vertical-align: middle;\n",
       "    }\n",
       "\n",
       "    .dataframe tbody tr th {\n",
       "        vertical-align: top;\n",
       "    }\n",
       "\n",
       "    .dataframe thead th {\n",
       "        text-align: right;\n",
       "    }\n",
       "</style>\n",
       "<table border=\"1\" class=\"dataframe\">\n",
       "  <thead>\n",
       "    <tr style=\"text-align: right;\">\n",
       "      <th></th>\n",
       "      <th>TITLE</th>\n",
       "      <th>CATEGORY</th>\n",
       "    </tr>\n",
       "  </thead>\n",
       "  <tbody>\n",
       "    <tr>\n",
       "      <th>0</th>\n",
       "      <td>Fed official says weak data caused by weather,...</td>\n",
       "      <td>b</td>\n",
       "    </tr>\n",
       "    <tr>\n",
       "      <th>1</th>\n",
       "      <td>Fed's Charles Plosser sees high bar for change...</td>\n",
       "      <td>b</td>\n",
       "    </tr>\n",
       "    <tr>\n",
       "      <th>2</th>\n",
       "      <td>US open: Stocks fall after Fed official hints ...</td>\n",
       "      <td>b</td>\n",
       "    </tr>\n",
       "    <tr>\n",
       "      <th>3</th>\n",
       "      <td>Fed risks falling 'behind the curve', Charles ...</td>\n",
       "      <td>b</td>\n",
       "    </tr>\n",
       "    <tr>\n",
       "      <th>4</th>\n",
       "      <td>Fed's Plosser: Nasty Weather Has Curbed Job Gr...</td>\n",
       "      <td>b</td>\n",
       "    </tr>\n",
       "  </tbody>\n",
       "</table>\n",
       "</div>"
      ],
      "text/plain": [
       "                                               TITLE CATEGORY\n",
       "0  Fed official says weak data caused by weather,...        b\n",
       "1  Fed's Charles Plosser sees high bar for change...        b\n",
       "2  US open: Stocks fall after Fed official hints ...        b\n",
       "3  Fed risks falling 'behind the curve', Charles ...        b\n",
       "4  Fed's Plosser: Nasty Weather Has Curbed Job Gr...        b"
      ]
     },
     "execution_count": 53,
     "metadata": {},
     "output_type": "execute_result"
    }
   ],
   "source": [
    "#creating a new dataset with only relevant features.\n",
    "ds = dir[['TITLE','CATEGORY']]\n",
    "ds.head()"
   ]
  },
  {
   "cell_type": "markdown",
   "metadata": {},
   "source": [
    "**HERE YOU CAN SEE THAT ALL CATEGORIES ARE IN ORDER(ALL B's TOGETHER AND SO ON), THEREFORE SHUFFLING THEM FOR OUR CONVENIENCE**"
   ]
  },
  {
   "cell_type": "code",
   "execution_count": 54,
   "metadata": {
    "execution": {
     "iopub.execute_input": "2021-07-08T18:27:24.363328Z",
     "iopub.status.busy": "2021-07-08T18:27:24.362948Z",
     "iopub.status.idle": "2021-07-08T18:27:24.465345Z",
     "shell.execute_reply": "2021-07-08T18:27:24.464563Z",
     "shell.execute_reply.started": "2021-07-08T18:27:24.363291Z"
    }
   },
   "outputs": [
    {
     "data": {
      "text/html": [
       "<div>\n",
       "<style scoped>\n",
       "    .dataframe tbody tr th:only-of-type {\n",
       "        vertical-align: middle;\n",
       "    }\n",
       "\n",
       "    .dataframe tbody tr th {\n",
       "        vertical-align: top;\n",
       "    }\n",
       "\n",
       "    .dataframe thead th {\n",
       "        text-align: right;\n",
       "    }\n",
       "</style>\n",
       "<table border=\"1\" class=\"dataframe\">\n",
       "  <thead>\n",
       "    <tr style=\"text-align: right;\">\n",
       "      <th></th>\n",
       "      <th>TITLE</th>\n",
       "      <th>CATEGORY</th>\n",
       "    </tr>\n",
       "  </thead>\n",
       "  <tbody>\n",
       "    <tr>\n",
       "      <th>0</th>\n",
       "      <td>Craig briefs: State gas prices unlikely to fall</td>\n",
       "      <td>t</td>\n",
       "    </tr>\n",
       "    <tr>\n",
       "      <th>1</th>\n",
       "      <td>Pippa Middleton Speaks Out About Fame, 'Family...</td>\n",
       "      <td>e</td>\n",
       "    </tr>\n",
       "    <tr>\n",
       "      <th>2</th>\n",
       "      <td>New HTC One M8 faces off with older HTC One M7</td>\n",
       "      <td>t</td>\n",
       "    </tr>\n",
       "    <tr>\n",
       "      <th>3</th>\n",
       "      <td>Anna Paquin makes final cut of X-Men: Days of ...</td>\n",
       "      <td>e</td>\n",
       "    </tr>\n",
       "    <tr>\n",
       "      <th>4</th>\n",
       "      <td>Microsoft issues security warning over flaw fo...</td>\n",
       "      <td>t</td>\n",
       "    </tr>\n",
       "  </tbody>\n",
       "</table>\n",
       "</div>"
      ],
      "text/plain": [
       "                                               TITLE CATEGORY\n",
       "0    Craig briefs: State gas prices unlikely to fall        t\n",
       "1  Pippa Middleton Speaks Out About Fame, 'Family...        e\n",
       "2     New HTC One M8 faces off with older HTC One M7        t\n",
       "3  Anna Paquin makes final cut of X-Men: Days of ...        e\n",
       "4  Microsoft issues security warning over flaw fo...        t"
      ]
     },
     "execution_count": 54,
     "metadata": {},
     "output_type": "execute_result"
    }
   ],
   "source": [
    "#shuffling rows with the help of sample, here (frac = 1) means return all rows\n",
    "ds = ds.sample(frac=1).reset_index(drop=True)\n",
    "ds.head()"
   ]
  },
  {
   "cell_type": "markdown",
   "metadata": {},
   "source": [
    "**DATASET IS NOW SHUFFLED**"
   ]
  },
  {
   "cell_type": "code",
   "execution_count": 55,
   "metadata": {
    "execution": {
     "iopub.execute_input": "2021-07-08T18:27:24.467404Z",
     "iopub.status.busy": "2021-07-08T18:27:24.467042Z",
     "iopub.status.idle": "2021-07-08T18:27:24.570996Z",
     "shell.execute_reply": "2021-07-08T18:27:24.570058Z",
     "shell.execute_reply.started": "2021-07-08T18:27:24.467366Z"
    }
   },
   "outputs": [
    {
     "data": {
      "text/plain": [
       "TITLE       0\n",
       "CATEGORY    0\n",
       "dtype: int64"
      ]
     },
     "execution_count": 55,
     "metadata": {},
     "output_type": "execute_result"
    }
   ],
   "source": [
    "#checking for null values\n",
    "ds.isnull().sum()"
   ]
  },
  {
   "cell_type": "markdown",
   "metadata": {},
   "source": [
    "\n",
    "**NO NULL VALUES FOUND**"
   ]
  },
  {
   "cell_type": "code",
   "execution_count": 56,
   "metadata": {
    "execution": {
     "iopub.execute_input": "2021-07-08T18:27:24.572934Z",
     "iopub.status.busy": "2021-07-08T18:27:24.572550Z",
     "iopub.status.idle": "2021-07-08T18:27:25.080321Z",
     "shell.execute_reply": "2021-07-08T18:27:25.079360Z",
     "shell.execute_reply.started": "2021-07-08T18:27:24.572896Z"
    }
   },
   "outputs": [
    {
     "data": {
      "text/plain": [
       "<AxesSubplot:xlabel='CATEGORY', ylabel='count'>"
      ]
     },
     "execution_count": 56,
     "metadata": {},
     "output_type": "execute_result"
    },
    {
     "data": {
      "image/png": "[encoded data removed]",
      "text/plain": [
       "<Figure size 432x288 with 1 Axes>"
      ]
     },
     "metadata": {
      "needs_background": "light"
     },
     "output_type": "display_data"
    }
   ],
   "source": [
    "#plotting graph for categories\n",
    "sns.countplot(x = 'CATEGORY',data = ds)"
   ]
  },
  {
   "cell_type": "markdown",
   "metadata": {},
   "source": [
    "**THERE ARE FOUR TYPES OF CATEGORIES-**\n",
    "1. **b : business (~115000)**\n",
    "2. **t : science and technology (~110000)**\n",
    "3. **e : entertainment (~150000)**\n",
    "4. **m : health (~40000)**\n"
   ]
  },
  {
   "cell_type": "markdown",
   "metadata": {},
   "source": [
    "**NOW MOVING ONTO CLEANING AND PREPROCESSING OF THE TEXT DATA**"
   ]
  },
  {
   "cell_type": "code",
   "execution_count": 57,
   "metadata": {
    "execution": {
     "iopub.execute_input": "2021-07-08T18:27:25.082832Z",
     "iopub.status.busy": "2021-07-08T18:27:25.082194Z",
     "iopub.status.idle": "2021-07-08T18:37:28.055533Z",
     "shell.execute_reply": "2021-07-08T18:37:28.054695Z",
     "shell.execute_reply.started": "2021-07-08T18:27:25.082792Z"
    }
   },
   "outputs": [],
   "source": [
    "#cleaning and preprocessing the text\n",
    "\n",
    "cleaned = []\n",
    "for i in range(0,len(ds)):\n",
    "    \n",
    "    #removing any other words than (a-z) and (A-Z)\n",
    "    msg = re.sub('[^a-zA-Z]',' ',ds['TITLE'][i])\n",
    "    \n",
    "    #converting all texts to lower case\n",
    "    msg = msg.lower()\n",
    "    \n",
    "    #tokenizing\n",
    "    msg = msg.split()\n",
    "    \n",
    "    #stemming and removing stopwords\n",
    "    ps = PorterStemmer()\n",
    "    msg = [ps.stem(words) for words in msg if not words in set(stopwords.words('english'))]\n",
    "    msg = ' '.join(msg)\n",
    "    cleaned.append(msg)"
   ]
  },
  {
   "cell_type": "code",
   "execution_count": 58,
   "metadata": {
    "execution": {
     "iopub.execute_input": "2021-07-08T18:37:28.057317Z",
     "iopub.status.busy": "2021-07-08T18:37:28.056985Z",
     "iopub.status.idle": "2021-07-08T18:37:28.064471Z",
     "shell.execute_reply": "2021-07-08T18:37:28.063642Z",
     "shell.execute_reply.started": "2021-07-08T18:37:28.057282Z"
    }
   },
   "outputs": [
    {
     "data": {
      "text/plain": [
       "['craig brief state ga price unlik fall',\n",
       " 'pippa middleton speak fame famili wed first tv interview',\n",
       " 'new htc one face older htc one',\n",
       " 'anna paquin make final cut x men day futur past',\n",
       " 'microsoft issu secur warn flaw found internet explor']"
      ]
     },
     "execution_count": 58,
     "metadata": {},
     "output_type": "execute_result"
    }
   ],
   "source": [
    "#cleaned data with no punctuations,stopwords and all texts in lowercase.\n",
    "cleaned[:5]"
   ]
  },
  {
   "cell_type": "code",
   "execution_count": 59,
   "metadata": {
    "execution": {
     "iopub.execute_input": "2021-07-08T18:37:28.067299Z",
     "iopub.status.busy": "2021-07-08T18:37:28.066952Z",
     "iopub.status.idle": "2021-07-08T18:37:35.912565Z",
     "shell.execute_reply": "2021-07-08T18:37:35.911785Z",
     "shell.execute_reply.started": "2021-07-08T18:37:28.067263Z"
    }
   },
   "outputs": [
    {
     "data": {
      "text/plain": [
       "array([[   0,    0,    0, ...,  165,  464, 2043],\n",
       "       [   0,    0,    0, ..., 1219, 4112, 3491],\n",
       "       [   0,    0,    0, ..., 1906, 4830, 2550],\n",
       "       ...,\n",
       "       [   0,    0,    0, ..., 3697, 2036, 3243],\n",
       "       [   0,    0,    0, ..., 3376, 2990, 2718],\n",
       "       [   0,    0,    0, ..., 2450, 3667,  711]], dtype=int32)"
      ]
     },
     "execution_count": 59,
     "metadata": {},
     "output_type": "execute_result"
    }
   ],
   "source": [
    "#taking dictionary size 5000\n",
    "dict_size = 5000\n",
    "\n",
    "#one hot encoding\n",
    "one_hot_mat = [one_hot(words,dict_size) for words in cleaned]\n",
    "\n",
    "#now for input as an embedding layer length of all rows should be equal therefore applying padding\n",
    "#this will make size of all rows equal by adding 0 at starting of the shorter rows\n",
    "#size of each row will be equal to length of longest row.\n",
    "embedded_layer = pad_sequences(one_hot_mat,padding = 'pre',maxlen = 150)\n",
    "embedded_layer"
   ]
  },
  {
   "cell_type": "code",
   "execution_count": 60,
   "metadata": {
    "execution": {
     "iopub.execute_input": "2021-07-08T18:37:35.914490Z",
     "iopub.status.busy": "2021-07-08T18:37:35.914137Z",
     "iopub.status.idle": "2021-07-08T18:37:35.920297Z",
     "shell.execute_reply": "2021-07-08T18:37:35.919426Z",
     "shell.execute_reply.started": "2021-07-08T18:37:35.914454Z"
    }
   },
   "outputs": [],
   "source": [
    "#now creating independent and dependent features\n",
    "x = embedded_layer\n",
    "y = np.array(ds['CATEGORY'])"
   ]
  },
  {
   "cell_type": "code",
   "execution_count": 61,
   "metadata": {
    "execution": {
     "iopub.execute_input": "2021-07-08T18:37:35.922133Z",
     "iopub.status.busy": "2021-07-08T18:37:35.921600Z",
     "iopub.status.idle": "2021-07-08T18:37:36.059601Z",
     "shell.execute_reply": "2021-07-08T18:37:36.058743Z",
     "shell.execute_reply.started": "2021-07-08T18:37:35.922096Z"
    }
   },
   "outputs": [],
   "source": [
    "#converting categorical values of y using OneHotEncoding\n",
    "le = LabelEncoder()\n",
    "y = le.fit_transform(y)\n",
    "y = to_categorical(y,4)"
   ]
  },
  {
   "cell_type": "code",
   "execution_count": 62,
   "metadata": {
    "execution": {
     "iopub.execute_input": "2021-07-08T18:37:36.061389Z",
     "iopub.status.busy": "2021-07-08T18:37:36.060857Z",
     "iopub.status.idle": "2021-07-08T18:37:36.068342Z",
     "shell.execute_reply": "2021-07-08T18:37:36.067220Z",
     "shell.execute_reply.started": "2021-07-08T18:37:36.061346Z"
    }
   },
   "outputs": [
    {
     "data": {
      "text/plain": [
       "array([[0., 0., 0., 1.],\n",
       "       [0., 1., 0., 0.],\n",
       "       [0., 0., 0., 1.],\n",
       "       [0., 1., 0., 0.],\n",
       "       [0., 0., 0., 1.],\n",
       "       [0., 1., 0., 0.],\n",
       "       [0., 0., 1., 0.],\n",
       "       [1., 0., 0., 0.],\n",
       "       [0., 0., 0., 1.],\n",
       "       [0., 0., 0., 1.]], dtype=float32)"
      ]
     },
     "execution_count": 62,
     "metadata": {},
     "output_type": "execute_result"
    }
   ],
   "source": [
    "y[:10]"
   ]
  },
  {
   "cell_type": "code",
   "execution_count": 63,
   "metadata": {
    "execution": {
     "iopub.execute_input": "2021-07-08T18:37:36.070293Z",
     "iopub.status.busy": "2021-07-08T18:37:36.069896Z",
     "iopub.status.idle": "2021-07-08T18:37:36.215788Z",
     "shell.execute_reply": "2021-07-08T18:37:36.214927Z",
     "shell.execute_reply.started": "2021-07-08T18:37:36.070252Z"
    }
   },
   "outputs": [
    {
     "name": "stdout",
     "output_type": "stream",
     "text": [
      "(337935, 150) (337935, 4)\n",
      "(84484, 150) (84484, 4)\n"
     ]
    }
   ],
   "source": [
    "#splitting the Dataset into Train and Test set\n",
    "x_train,x_test,y_train,y_test=train_test_split(x,y,test_size=0.2,random_state=42)\n",
    "print(x_train.shape,y_train.shape)\n",
    "print(x_test.shape,y_test.shape)"
   ]
  },
  {
   "cell_type": "code",
   "execution_count": 64,
   "metadata": {
    "execution": {
     "iopub.execute_input": "2021-07-08T18:37:36.217376Z",
     "iopub.status.busy": "2021-07-08T18:37:36.217006Z",
     "iopub.status.idle": "2021-07-08T18:42:32.711511Z",
     "shell.execute_reply": "2021-07-08T18:42:32.710552Z",
     "shell.execute_reply.started": "2021-07-08T18:37:36.217338Z"
    }
   },
   "outputs": [
    {
     "name": "stdout",
     "output_type": "stream",
     "text": [
      "Model: \"sequential_1\"\n",
      "_________________________________________________________________\n",
      "Layer (type)                 Output Shape              Param #   \n",
      "=================================================================\n",
      "embedding_1 (Embedding)      (None, 150, 50)           250000    \n",
      "_________________________________________________________________\n",
      "dropout_1 (Dropout)          (None, 150, 50)           0         \n",
      "_________________________________________________________________\n",
      "lstm_1 (LSTM)                (None, 100)               60400     \n",
      "_________________________________________________________________\n",
      "dense_1 (Dense)              (None, 4)                 404       \n",
      "=================================================================\n",
      "Total params: 310,804\n",
      "Trainable params: 310,804\n",
      "Non-trainable params: 0\n",
      "_________________________________________________________________\n",
      "Epoch 1/10\n",
      "1321/1321 [==============================] - 32s 23ms/step - loss: 0.5694 - accuracy: 0.7720 - val_loss: 0.2822 - val_accuracy: 0.8999\n",
      "Epoch 2/10\n",
      "1321/1321 [==============================] - 29s 22ms/step - loss: 0.2734 - accuracy: 0.9027 - val_loss: 0.2703 - val_accuracy: 0.9032\n",
      "Epoch 3/10\n",
      "1321/1321 [==============================] - 29s 22ms/step - loss: 0.2526 - accuracy: 0.9101 - val_loss: 0.2632 - val_accuracy: 0.9061\n",
      "Epoch 4/10\n",
      "1321/1321 [==============================] - 29s 22ms/step - loss: 0.2327 - accuracy: 0.9182 - val_loss: 0.2495 - val_accuracy: 0.9109\n",
      "Epoch 5/10\n",
      "1321/1321 [==============================] - 29s 22ms/step - loss: 0.2168 - accuracy: 0.9224 - val_loss: 0.2475 - val_accuracy: 0.9118\n",
      "Epoch 6/10\n",
      "1321/1321 [==============================] - 29s 22ms/step - loss: 0.2060 - accuracy: 0.9258 - val_loss: 0.2421 - val_accuracy: 0.9142\n",
      "Epoch 7/10\n",
      "1321/1321 [==============================] - 29s 22ms/step - loss: 0.1938 - accuracy: 0.9296 - val_loss: 0.2432 - val_accuracy: 0.9144\n",
      "Epoch 8/10\n",
      "1321/1321 [==============================] - 29s 22ms/step - loss: 0.1854 - accuracy: 0.9329 - val_loss: 0.2400 - val_accuracy: 0.9167\n",
      "Epoch 9/10\n",
      "1321/1321 [==============================] - 29s 22ms/step - loss: 0.1774 - accuracy: 0.9356 - val_loss: 0.2405 - val_accuracy: 0.9175\n",
      "Epoch 10/10\n",
      "1321/1321 [==============================] - 29s 22ms/step - loss: 0.1717 - accuracy: 0.9386 - val_loss: 0.2396 - val_accuracy: 0.9185\n"
     ]
    }
   ],
   "source": [
    "#creating model using LSTM\n",
    "model = Sequential()\n",
    "\n",
    "#taking number features as 50\n",
    "model.add(Embedding(dict_size,50,input_length = len(x[0])))\n",
    "model.add(Dropout(0.2))\n",
    "\n",
    "#adding LSTM layers with 100 neurons\n",
    "model.add(LSTM(100))\n",
    "\n",
    "#adding output layer \n",
    "model.add(Dense(4,activation=\"softmax\"))\n",
    "\n",
    "#compiling the model\n",
    "model.compile(loss=\"categorical_crossentropy\",optimizer='adam',metrics=[\"accuracy\"])\n",
    "\n",
    "#summary of model\n",
    "model.summary()\n",
    "\n",
    "#training the model\n",
    "rnn = model.fit(x_train, y_train, validation_data = (x_test,y_test), epochs = 10, batch_size = 256)"
   ]
  },
  {
   "cell_type": "code",
   "execution_count": 65,
   "metadata": {
    "execution": {
     "iopub.execute_input": "2021-07-08T18:42:32.713350Z",
     "iopub.status.busy": "2021-07-08T18:42:32.712997Z",
     "iopub.status.idle": "2021-07-08T18:42:45.437761Z",
     "shell.execute_reply": "2021-07-08T18:42:45.436952Z",
     "shell.execute_reply.started": "2021-07-08T18:42:32.713313Z"
    }
   },
   "outputs": [
    {
     "name": "stdout",
     "output_type": "stream",
     "text": [
      "2641/2641 [==============================] - 13s 5ms/step - loss: 0.2396 - accuracy: 0.9185\n"
     ]
    },
    {
     "data": {
      "text/plain": [
       "[0.2395889312028885, 0.9184815883636475]"
      ]
     },
     "execution_count": 65,
     "metadata": {},
     "output_type": "execute_result"
    }
   ],
   "source": [
    "#evaluating our model\n",
    "model.evaluate(x_test,y_test)"
   ]
  },
  {
   "cell_type": "code",
   "execution_count": 66,
   "metadata": {
    "execution": {
     "iopub.execute_input": "2021-07-08T18:42:45.439323Z",
     "iopub.status.busy": "2021-07-08T18:42:45.438969Z",
     "iopub.status.idle": "2021-07-08T18:42:54.363938Z",
     "shell.execute_reply": "2021-07-08T18:42:54.363039Z",
     "shell.execute_reply.started": "2021-07-08T18:42:45.439285Z"
    }
   },
   "outputs": [],
   "source": [
    "#making predictions\n",
    "pred = model.predict(x_test)\n",
    "\n",
    "#saving index of maximum value of pred in preds (because in pred probabilities will come)\n",
    "preds = []\n",
    "for i in range(0,len(pred)):\n",
    "    preds.append(pred[i].argmax())\n",
    "\n",
    "#saving index of maximum value of y_test in actual\n",
    "actual = []\n",
    "for i in range(0,len(y_test)):\n",
    "    actual.append(y_test[i].argmax())\n"
   ]
  },
  {
   "cell_type": "code",
   "execution_count": 67,
   "metadata": {
    "execution": {
     "iopub.execute_input": "2021-07-08T18:42:54.365646Z",
     "iopub.status.busy": "2021-07-08T18:42:54.365296Z",
     "iopub.status.idle": "2021-07-08T18:42:54.579238Z",
     "shell.execute_reply": "2021-07-08T18:42:54.578356Z",
     "shell.execute_reply.started": "2021-07-08T18:42:54.365595Z"
    }
   },
   "outputs": [
    {
     "name": "stdout",
     "output_type": "stream",
     "text": [
      "              precision    recall  f1-score   support\n",
      "\n",
      "           b       0.89      0.90      0.90     23012\n",
      "           t       0.94      0.96      0.95     30628\n",
      "           e       0.92      0.87      0.89      9172\n",
      "           m       0.91      0.90      0.90     21672\n",
      "\n",
      "    accuracy                           0.92     84484\n",
      "   macro avg       0.92      0.91      0.91     84484\n",
      "weighted avg       0.92      0.92      0.92     84484\n",
      "\n"
     ]
    }
   ],
   "source": [
    "#classification report\n",
    "from sklearn import metrics\n",
    "report = metrics.classification_report(actual, preds, target_names = ['b','t','e','m'])\n",
    "print(report)"
   ]
  },
  {
   "cell_type": "code",
   "execution_count": 68,
   "metadata": {
    "execution": {
     "iopub.execute_input": "2021-07-08T18:42:54.580921Z",
     "iopub.status.busy": "2021-07-08T18:42:54.580563Z",
     "iopub.status.idle": "2021-07-08T18:42:54.711029Z",
     "shell.execute_reply": "2021-07-08T18:42:54.710133Z",
     "shell.execute_reply.started": "2021-07-08T18:42:54.580884Z"
    }
   },
   "outputs": [
    {
     "name": "stdout",
     "output_type": "stream",
     "text": [
      "[[0.01600653 0.01219762 0.03834334 0.9334525 ]] Health\n"
     ]
    }
   ],
   "source": [
    "#checking category of a text\n",
    "txt = [\"An apple a day keeps doctor away.\"]\n",
    "\n",
    "#cleaning and preprocessing the text\n",
    "cleaned = []\n",
    "for i in range(0,len(txt)):\n",
    "    msg = re.sub('[^a-zA-Z]',' ',txt[i])\n",
    "    msg = msg.lower()\n",
    "    msg = msg.split()\n",
    "    ps = PorterStemmer()\n",
    "    msg = [ps.stem(words) for words in msg if not words in set(stopwords.words('english'))]\n",
    "    msg = ' '.join(msg)\n",
    "    cleaned.append(msg)\n",
    "\n",
    "#one hot encoding and embedding layer\n",
    "one_hot_mat = [one_hot(words,dict_size) for words in cleaned]\n",
    "embedded_layer = pad_sequences(one_hot_mat,padding = 'pre',maxlen = 150)\n",
    "embedded_layer\n",
    "\n",
    "#prediction\n",
    "pred = model.predict(embedded_layer)\n",
    "cat = ['Business','Science','Entertainment','Health']\n",
    "print(pred, cat[np.argmax(pred)])"
   ]
  }
 ],
 "metadata": {
  "kernelspec": {
   "display_name": "Python 3",
   "language": "python",
   "name": "python3"
  },
  "language_info": {
   "codemirror_mode": {
    "name": "ipython",
    "version": 3
   },
   "file_extension": ".py",
   "mimetype": "text/x-python",
   "name": "python",
   "nbconvert_exporter": "python",
   "pygments_lexer": "ipython3",
   "version": "3.8.8"
  }
 },
 "nbformat": 4,
 "nbformat_minor": 4
}
